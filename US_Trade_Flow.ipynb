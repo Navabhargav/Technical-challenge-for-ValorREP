{
 "cells": [
  {
   "cell_type": "markdown",
   "id": "584f93e6-360e-4a4f-b600-f5fac4540e29",
   "metadata": {},
   "source": [
    "# Libraries to Install"
   ]
  },
  {
   "cell_type": "code",
   "execution_count": 2,
   "id": "4d198f78-6640-42f8-8985-fe81a209ac2e",
   "metadata": {},
   "outputs": [
    {
     "name": "stdout",
     "output_type": "stream",
     "text": [
      "Requirement already satisfied: pandas in c:\\users\\navab\\anaconda3\\lib\\site-packages (2.2.2)\n",
      "Requirement already satisfied: numpy in c:\\users\\navab\\anaconda3\\lib\\site-packages (1.26.4)\n",
      "Requirement already satisfied: matplotlib in c:\\users\\navab\\anaconda3\\lib\\site-packages (3.8.4)\n",
      "Requirement already satisfied: seaborn in c:\\users\\navab\\anaconda3\\lib\\site-packages (0.13.2)\n"
     ]
    },
    {
     "name": "stderr",
     "output_type": "stream",
     "text": [
      "ERROR: Could not find a version that satisfies the requirement sqlite3 (from versions: none)\n",
      "ERROR: No matching distribution found for sqlite3\n"
     ]
    }
   ],
   "source": [
    "!pip install pandas numpy matplotlib seaborn sqlite3"
   ]
  },
  {
   "cell_type": "code",
   "execution_count": 3,
   "id": "90bf94a0-41c8-4392-80a6-350192bf6662",
   "metadata": {},
   "outputs": [],
   "source": [
    "import sqlite3\n",
    "import pandas as pd\n",
    "import matplotlib.pyplot as plt\n",
    "import seaborn as sns"
   ]
  },
  {
   "cell_type": "code",
   "execution_count": 4,
   "id": "32bf36cc-f02e-49c2-93fb-30c2e1c0e85f",
   "metadata": {},
   "outputs": [],
   "source": [
    "db_path = r\"C:\\Users\\navab\\OneDrive\\Desktop\\US Trade Flow Exercise\\US Trade Flow Exercise\\trade.db\\trade.db\""
   ]
  },
  {
   "cell_type": "code",
   "execution_count": 5,
   "id": "a0554999-b065-4030-96fe-9ac74ed870ef",
   "metadata": {},
   "outputs": [],
   "source": [
    "conn = sqlite3.connect(db_path)\n",
    "cursor = conn.cursor()"
   ]
  },
  {
   "cell_type": "markdown",
   "id": "aa76fc90-2814-4c0e-9c3d-cb79e47ade9c",
   "metadata": {},
   "source": [
    "# Question 1: Describe the data and the structure of the database tables and perform initial data exploration. "
   ]
  },
  {
   "cell_type": "code",
   "execution_count": 7,
   "id": "e841bf6f-fc82-4f58-9cf5-4f1e369759e3",
   "metadata": {},
   "outputs": [
    {
     "name": "stdout",
     "output_type": "stream",
     "text": [
      "\n",
      " Available Tables:\n",
      "         name\n",
      "0  hs_mapping\n",
      "1  trade_flow\n"
     ]
    }
   ],
   "source": [
    "query = \"SELECT name FROM sqlite_master WHERE type='table';\"\n",
    "tables = pd.read_sql(query, conn)\n",
    "print(\"\\n Available Tables:\")\n",
    "print(tables)"
   ]
  },
  {
   "cell_type": "code",
   "execution_count": 8,
   "id": "e1a28c84-ea37-4828-b2fe-285d6233d152",
   "metadata": {},
   "outputs": [
    {
     "name": "stdout",
     "output_type": "stream",
     "text": [
      "\n",
      " Structure of hs_mapping Table:\n",
      "   cid        name    type  notnull dflt_value  pk\n",
      "0    0       index  BIGINT        0       None   0\n",
      "1    1  Product ID   FLOAT        0       None   0\n",
      "2    2      HS6 ID  BIGINT        0       None   0\n",
      "3    3         HS6    TEXT        0       None   0\n",
      "4    4      HS4 ID  BIGINT        0       None   0\n",
      "5    5         HS4    TEXT        0       None   0\n",
      "6    6      HS2 ID  BIGINT        0       None   0\n",
      "7    7         HS2    TEXT        0       None   0\n",
      "8    8  Section ID  BIGINT        0       None   0\n",
      "9    9     Section    TEXT        0       None   0\n"
     ]
    }
   ],
   "source": [
    "#explore `hs_mapping` Table Structure\n",
    "query = \"PRAGMA table_info(hs_mapping);\"\n",
    "hs_mapping_info = pd.read_sql(query, conn)\n",
    "print(\"\\n Structure of hs_mapping Table:\")\n",
    "print(hs_mapping_info)"
   ]
  },
  {
   "cell_type": "code",
   "execution_count": 9,
   "id": "3c8b4656-bf11-4f2c-b14c-b8e974e0eab9",
   "metadata": {},
   "outputs": [
    {
     "name": "stdout",
     "output_type": "stream",
     "text": [
      "\n",
      " Structure of trade_flow Table:\n",
      "   cid             name  type  notnull dflt_value  pk\n",
      "0    0         month_id   INT        0       None   0\n",
      "1    1         state_id  TEXT        0       None   0\n",
      "2    2       state_name  TEXT        0       None   0\n",
      "3    3  trade_flow_name  TEXT        0       None   0\n",
      "4    4       country_id  TEXT        0       None   0\n",
      "5    5     country_name  TEXT        0       None   0\n",
      "6    6       product_id   INT        0       None   0\n",
      "7    7     product_name  TEXT        0       None   0\n",
      "8    8      trade_value   INT        0       None   0\n"
     ]
    }
   ],
   "source": [
    "#Explore `trade_flow` Table Structure\n",
    "query = \"PRAGMA table_info(trade_flow);\"\n",
    "trade_flow_info = pd.read_sql(query, conn)\n",
    "print(\"\\n Structure of trade_flow Table:\")\n",
    "print(trade_flow_info)"
   ]
  },
  {
   "cell_type": "code",
   "execution_count": 10,
   "id": "d5b17d55-806e-46e6-9104-16a5242c8935",
   "metadata": {},
   "outputs": [],
   "source": [
    "#Preview first 5 rows of each table\n",
    "hs_mapping_df = pd.read_sql(\"SELECT * FROM hs_mapping LIMIT 5;\", conn)\n",
    "trade_flow_df = pd.read_sql(\"SELECT * FROM trade_flow LIMIT 5;\", conn)"
   ]
  },
  {
   "cell_type": "code",
   "execution_count": 11,
   "id": "7584bfaf-de8e-4466-95c9-931b452b8aa9",
   "metadata": {},
   "outputs": [
    {
     "name": "stdout",
     "output_type": "stream",
     "text": [
      "\n",
      " Sample Data from hs_mapping:\n",
      "   index  Product ID  HS6 ID  \\\n",
      "0      0   1010121.0   10121   \n",
      "1      1   1010129.0   10129   \n",
      "2      2   1010130.0   10130   \n",
      "3      3   1010190.0   10190   \n",
      "4      4   1010221.0   10221   \n",
      "\n",
      "                                                 HS6  HS4 ID     HS4  HS2 ID  \\\n",
      "0           Horses: live, pure-bred breeding animals   10101  Horses     101   \n",
      "1  Horses: live, other than pure-bred breeding an...   10101  Horses     101   \n",
      "2                                        Asses: live   10101  Horses     101   \n",
      "3                            Mules and hinnies: live   10101  Horses     101   \n",
      "4           Cattle: live, pure-bred breeding animals   10102  Bovine     101   \n",
      "\n",
      "             HS2  Section ID          Section  \n",
      "0  Animals; live           1  Animal Products  \n",
      "1  Animals; live           1  Animal Products  \n",
      "2  Animals; live           1  Animal Products  \n",
      "3  Animals; live           1  Animal Products  \n",
      "4  Animals; live           1  Animal Products  \n"
     ]
    }
   ],
   "source": [
    "print(\"\\n Sample Data from hs_mapping:\")\n",
    "print(hs_mapping_df)"
   ]
  },
  {
   "cell_type": "code",
   "execution_count": 12,
   "id": "3b4d89b2-3fa8-4ecc-9a4f-19c0ef5b405b",
   "metadata": {},
   "outputs": [
    {
     "name": "stdout",
     "output_type": "stream",
     "text": [
      "\n",
      " Sample Data from trade_flow:\n",
      "   month_id   state_id    state_name trade_flow_name country_id country_name  \\\n",
      "0    202101  04000US42  Pennsylvania         Exports        ita        Italy   \n",
      "1    202101  04000US42  Pennsylvania         Exports        ita        Italy   \n",
      "2    202101  04000US42  Pennsylvania         Imports        ita        Italy   \n",
      "3    202101  04000US42  Pennsylvania         Exports        ita        Italy   \n",
      "4    202101  04000US42  Pennsylvania         Imports        ita        Italy   \n",
      "\n",
      "   product_id                                       product_name  trade_value  \n",
      "0      852321  Magnetic media: cards incorporating a magnetic...        20597  \n",
      "1      852349  Optical media: recorded, excluding products of...         9574  \n",
      "2      852349  Optical media: recorded, excluding products of...         5574  \n",
      "3      852351  Semiconductor media: solid-state non-volatile ...        23920  \n",
      "4      852380  Media n.e.c. in heading 8523, whether or not r...         4433  \n"
     ]
    }
   ],
   "source": [
    "print(\"\\n Sample Data from trade_flow:\")\n",
    "print(trade_flow_df)"
   ]
  },
  {
   "cell_type": "markdown",
   "id": "ce90eaa2-cc10-40a7-9e4e-8f05f586afc5",
   "metadata": {},
   "source": [
    "# Question 2: To Calculate Total Import/Export for Each Country"
   ]
  },
  {
   "cell_type": "code",
   "execution_count": 14,
   "id": "58de1d63-b0e7-4117-b190-0137a87ed2ec",
   "metadata": {},
   "outputs": [
    {
     "name": "stdout",
     "output_type": "stream",
     "text": [
      " Column Names in trade_flow Table:\n",
      "              name  type\n",
      "0         month_id   INT\n",
      "1         state_id  TEXT\n",
      "2       state_name  TEXT\n",
      "3  trade_flow_name  TEXT\n",
      "4       country_id  TEXT\n",
      "5     country_name  TEXT\n",
      "6       product_id   INT\n",
      "7     product_name  TEXT\n",
      "8      trade_value   INT\n"
     ]
    }
   ],
   "source": [
    "# Query to fetch column names from trade_flow table\n",
    "query = \"PRAGMA table_info(trade_flow);\"\n",
    "trade_flow_columns = pd.read_sql(query, conn)\n",
    "\n",
    "# Display the column names\n",
    "print(\" Column Names in trade_flow Table:\")\n",
    "print(trade_flow_columns[['name', 'type']])\n"
   ]
  },
  {
   "cell_type": "code",
   "execution_count": 15,
   "id": "f0b9243d-d9a6-45f3-be3f-fa67d8841bc1",
   "metadata": {},
   "outputs": [
    {
     "name": "stdout",
     "output_type": "stream",
     "text": [
      "\n",
      " Unique Values in trade_flow_name Column:\n",
      "  trade_flow_name\n",
      "0         Exports\n",
      "1         Imports\n"
     ]
    }
   ],
   "source": [
    "query = \"SELECT DISTINCT trade_flow_name FROM trade_flow;\"\n",
    "trade_flows = pd.read_sql(query, conn)\n",
    "\n",
    "print(\"\\n Unique Values in trade_flow_name Column:\")\n",
    "print(trade_flows)\n"
   ]
  },
  {
   "cell_type": "code",
   "execution_count": 17,
   "id": "678f500e-c124-41f3-a49a-b9749083a29e",
   "metadata": {},
   "outputs": [
    {
     "name": "stdout",
     "output_type": "stream",
     "text": [
      "\n",
      " Trade Value Summary:\n",
      "   MIN(trade_value)  MAX(trade_value)  COUNT(*)\n",
      "0                 0        4882207032  46211628\n"
     ]
    }
   ],
   "source": [
    "query = \"SELECT MIN(trade_value), MAX(trade_value), COUNT(*) FROM trade_flow;\"\n",
    "trade_summary = pd.read_sql(query, conn)\n",
    "\n",
    "print(\"\\n Trade Value Summary:\")\n",
    "print(trade_summary)\n"
   ]
  },
  {
   "cell_type": "code",
   "execution_count": 18,
   "id": "f644838b-5598-4d24-953b-bb427f813b14",
   "metadata": {},
   "outputs": [
    {
     "name": "stdout",
     "output_type": "stream",
     "text": [
      "\n",
      " Total Import/Export for Each Country (Fixed):\n",
      "                    country_name   total_import  total_export\n",
      "0                          China  1129710197954  328469023015\n",
      "1                         Mexico   901262859294  646726504030\n",
      "2                         Canada   850853862032  710712914844\n",
      "3                          Japan   305119815723  168597846363\n",
      "4                        Germany   302229228324  148694093562\n",
      "..                           ...            ...           ...\n",
      "224  French Southern Territories         200486       6476889\n",
      "225                     Svalbard         188921       1953226\n",
      "226                  South Sudan         100295     101533556\n",
      "227    Saint Pierre and Miquelon          33295         83533\n",
      "228                  North Korea          29088             0\n",
      "\n",
      "[229 rows x 3 columns]\n"
     ]
    }
   ],
   "source": [
    "query = \"\"\"\n",
    "SELECT \n",
    "    country_name, \n",
    "    SUM(CASE WHEN TRIM(trade_flow_name) = 'Imports' THEN trade_value ELSE 0 END) AS total_import,\n",
    "    SUM(CASE WHEN TRIM(trade_flow_name) = 'Exports' THEN trade_value ELSE 0 END) AS total_export\n",
    "FROM trade_flow\n",
    "GROUP BY country_name\n",
    "HAVING total_import > 0 OR total_export > 0\n",
    "ORDER BY total_import DESC;\n",
    "\"\"\"\n",
    "country_trade = pd.read_sql(query, conn)\n",
    "\n",
    "print(\"\\n Total Import/Export for Each Country (Fixed):\")\n",
    "print(country_trade)"
   ]
  },
  {
   "cell_type": "markdown",
   "id": "57274e8b-5c22-49cf-a885-5fec12c1ec97",
   "metadata": {},
   "source": [
    "# Question 3: Find the Most Frequent Section for Each Country"
   ]
  },
  {
   "cell_type": "code",
   "execution_count": 20,
   "id": "ae680b03-7a5b-4a6e-8b13-920d2df21e0b",
   "metadata": {},
   "outputs": [
    {
     "name": "stdout",
     "output_type": "stream",
     "text": [
      "\n",
      " Columns in hs_mapping Table:\n",
      "   cid        name    type  notnull dflt_value  pk\n",
      "0    0       index  BIGINT        0       None   0\n",
      "1    1  Product ID   FLOAT        0       None   0\n",
      "2    2      HS6 ID  BIGINT        0       None   0\n",
      "3    3         HS6    TEXT        0       None   0\n",
      "4    4      HS4 ID  BIGINT        0       None   0\n",
      "5    5         HS4    TEXT        0       None   0\n",
      "6    6      HS2 ID  BIGINT        0       None   0\n",
      "7    7         HS2    TEXT        0       None   0\n",
      "8    8  Section ID  BIGINT        0       None   0\n",
      "9    9     Section    TEXT        0       None   0\n"
     ]
    }
   ],
   "source": [
    "query = \"PRAGMA table_info(hs_mapping);\"\n",
    "hs_mapping_columns = pd.read_sql(query, conn)\n",
    "print(\"\\n Columns in hs_mapping Table:\")\n",
    "print(hs_mapping_columns)\n"
   ]
  },
  {
   "cell_type": "code",
   "execution_count": 21,
   "id": "31e0dab2-6912-49e1-9964-955208a3fccc",
   "metadata": {},
   "outputs": [
    {
     "name": "stdout",
     "output_type": "stream",
     "text": [
      "\n",
      " Most Frequent Section for Each Country:\n",
      "            country_name       section_name\n",
      "0              Argentina  Chemical Products\n",
      "1                Armenia  Chemical Products\n",
      "2                  Aruba  Chemical Products\n",
      "3              Australia  Chemical Products\n",
      "4                Austria    Animal Products\n",
      "..                   ...                ...\n",
      "82               Ukraine  Chemical Products\n",
      "83  United Arab Emirates  Chemical Products\n",
      "84        United Kingdom  Chemical Products\n",
      "85             Venezuela  Chemical Products\n",
      "86               Vietnam      Wood Products\n",
      "\n",
      "[87 rows x 2 columns]\n"
     ]
    }
   ],
   "source": [
    "query = \"\"\"\n",
    "WITH SectionCount AS (\n",
    "    SELECT \n",
    "        tf.country_name, \n",
    "        hs.Section AS section_name, \n",
    "        COUNT(*) AS section_count\n",
    "    FROM trade_flow tf\n",
    "    JOIN hs_mapping hs \n",
    "    ON tf.product_id = hs.\"Product ID\"  \n",
    "    GROUP BY tf.country_name, hs.Section\n",
    ")\n",
    "SELECT country_name, section_name\n",
    "FROM (\n",
    "    SELECT country_name, section_name, \n",
    "           RANK() OVER (PARTITION BY country_name ORDER BY section_count DESC) AS rank\n",
    "    FROM SectionCount\n",
    ") WHERE rank = 1;\n",
    "\"\"\"\n",
    "most_frequent_section = pd.read_sql(query, conn)\n",
    "\n",
    "print(\"\\n Most Frequent Section for Each Country:\")\n",
    "print(most_frequent_section)\n"
   ]
  },
  {
   "cell_type": "markdown",
   "id": "c02ab957-787d-406c-8b16-4e73b2f29c2c",
   "metadata": {},
   "source": [
    "# Question 4: How do the imports change from 2021 to 2022 for the US?"
   ]
  },
  {
   "cell_type": "code",
   "execution_count": 23,
   "id": "102ebca3-821f-40cf-8fbc-dcee70e1cd29",
   "metadata": {},
   "outputs": [
    {
     "data": {
      "text/html": [
       "<div>\n",
       "<style scoped>\n",
       "    .dataframe tbody tr th:only-of-type {\n",
       "        vertical-align: middle;\n",
       "    }\n",
       "\n",
       "    .dataframe tbody tr th {\n",
       "        vertical-align: top;\n",
       "    }\n",
       "\n",
       "    .dataframe thead th {\n",
       "        text-align: right;\n",
       "    }\n",
       "</style>\n",
       "<table border=\"1\" class=\"dataframe\">\n",
       "  <thead>\n",
       "    <tr style=\"text-align: right;\">\n",
       "      <th></th>\n",
       "      <th>month_id</th>\n",
       "    </tr>\n",
       "  </thead>\n",
       "  <tbody>\n",
       "    <tr>\n",
       "      <th>0</th>\n",
       "      <td>202101</td>\n",
       "    </tr>\n",
       "    <tr>\n",
       "      <th>1</th>\n",
       "      <td>202102</td>\n",
       "    </tr>\n",
       "    <tr>\n",
       "      <th>2</th>\n",
       "      <td>202103</td>\n",
       "    </tr>\n",
       "    <tr>\n",
       "      <th>3</th>\n",
       "      <td>202104</td>\n",
       "    </tr>\n",
       "    <tr>\n",
       "      <th>4</th>\n",
       "      <td>202105</td>\n",
       "    </tr>\n",
       "    <tr>\n",
       "      <th>5</th>\n",
       "      <td>202106</td>\n",
       "    </tr>\n",
       "    <tr>\n",
       "      <th>6</th>\n",
       "      <td>202107</td>\n",
       "    </tr>\n",
       "    <tr>\n",
       "      <th>7</th>\n",
       "      <td>202108</td>\n",
       "    </tr>\n",
       "    <tr>\n",
       "      <th>8</th>\n",
       "      <td>202109</td>\n",
       "    </tr>\n",
       "    <tr>\n",
       "      <th>9</th>\n",
       "      <td>202110</td>\n",
       "    </tr>\n",
       "  </tbody>\n",
       "</table>\n",
       "</div>"
      ],
      "text/plain": [
       "   month_id\n",
       "0    202101\n",
       "1    202102\n",
       "2    202103\n",
       "3    202104\n",
       "4    202105\n",
       "5    202106\n",
       "6    202107\n",
       "7    202108\n",
       "8    202109\n",
       "9    202110"
      ]
     },
     "execution_count": 23,
     "metadata": {},
     "output_type": "execute_result"
    }
   ],
   "source": [
    "#checking unique years with month id\n",
    "query = \"SELECT DISTINCT month_id FROM trade_flow LIMIT 10;\"\n",
    "pd.read_sql(query, conn)\n"
   ]
  },
  {
   "cell_type": "code",
   "execution_count": 24,
   "id": "2e150cc0-af43-4114-85b2-0b159edab92e",
   "metadata": {},
   "outputs": [
    {
     "name": "stdout",
     "output_type": "stream",
     "text": [
      "\n",
      " Available Years in the Dataset:\n",
      "   year\n",
      "0  2021\n",
      "1  2022\n"
     ]
    }
   ],
   "source": [
    "query = \"\"\"\n",
    "SELECT DISTINCT SUBSTR(month_id, 1, 4) AS year\n",
    "FROM trade_flow\n",
    "ORDER BY year;\n",
    "\"\"\"\n",
    "available_years = pd.read_sql(query, conn)\n",
    "print(\"\\n Available Years in the Dataset:\")\n",
    "print(available_years)\n"
   ]
  },
  {
   "cell_type": "code",
   "execution_count": 25,
   "id": "950fa3af-84ac-4a27-8724-930530f3569a",
   "metadata": {},
   "outputs": [
    {
     "name": "stdout",
     "output_type": "stream",
     "text": [
      "\n",
      " Available Trade Flow Categories:\n",
      "  trade_flow_name\n",
      "0         Exports\n",
      "1         Imports\n"
     ]
    }
   ],
   "source": [
    "query = \"\"\"\n",
    "SELECT DISTINCT trade_flow_name\n",
    "FROM trade_flow;\n",
    "\"\"\"\n",
    "trade_flow_types = pd.read_sql(query, conn)\n",
    "print(\"\\n Available Trade Flow Categories:\")\n",
    "print(trade_flow_types)\n"
   ]
  },
  {
   "cell_type": "code",
   "execution_count": 26,
   "id": "968608eb-e1e1-4b86-941d-fadb82cfd08b",
   "metadata": {},
   "outputs": [
    {
     "name": "stdout",
     "output_type": "stream",
     "text": [
      "\n",
      " US Imports in 2021 & 2022:\n",
      "   year  total_imports\n",
      "0  2021    77606311556\n",
      "1  2022    64887725746\n",
      "\n",
      " Imports change from 2021 to 2022: -16.39%\n"
     ]
    }
   ],
   "source": [
    "query = \"\"\"\n",
    "SELECT \n",
    "    CAST(SUBSTR(month_id, 1, 4) AS INT) AS year,\n",
    "    SUM(trade_value) AS total_imports\n",
    "FROM trade_flow\n",
    "WHERE country_name LIKE '%United%'  \n",
    "AND trade_flow_name LIKE '%Import%'  \n",
    "AND SUBSTR(month_id, 1, 4) IN ('2021', '2022')\n",
    "GROUP BY year\n",
    "ORDER BY year;\n",
    "\"\"\"\n",
    "\n",
    "# Run Query\n",
    "us_imports = pd.read_sql(query, conn)\n",
    "\n",
    "# Display Result\n",
    "print(\"\\n US Imports in 2021 & 2022:\")\n",
    "print(us_imports)\n",
    "\n",
    "# Calculate Percentage Change if Both Years Exist\n",
    "if len(us_imports) == 2:\n",
    "    change = ((us_imports['total_imports'][1] - us_imports['total_imports'][0]) / us_imports['total_imports'][0]) * 100\n",
    "    print(f\"\\n Imports change from 2021 to 2022: {change:.2f}%\")\n",
    "else:\n",
    "    print(\"\\n Data missing for one of the years.\")\n"
   ]
  },
  {
   "cell_type": "markdown",
   "id": "76ac142a-706d-41d4-a73d-6bdc41f4e98c",
   "metadata": {},
   "source": [
    "# Question 5: How do the exports change from 2021 to 2022 for the US?"
   ]
  },
  {
   "cell_type": "code",
   "execution_count": 28,
   "id": "3ee102c0-59c2-4da3-bd47-b7060205d3b4",
   "metadata": {},
   "outputs": [
    {
     "name": "stdout",
     "output_type": "stream",
     "text": [
      "\n",
      " US Exports in 2021 & 2022:\n",
      "   year  total_exports\n",
      "0  2021    99025713011\n",
      "1  2022    88560637966\n",
      "\n",
      " Exports change from 2021 to 2022: -10.57%\n"
     ]
    }
   ],
   "source": [
    "query = \"\"\"\n",
    "SELECT \n",
    "    CAST(SUBSTR(month_id, 1, 4) AS INT) AS year,\n",
    "    SUM(trade_value) AS total_exports\n",
    "FROM trade_flow\n",
    "WHERE country_name LIKE '%United%'  \n",
    "AND trade_flow_name LIKE '%Export%'  \n",
    "AND SUBSTR(month_id, 1, 4) IN ('2021', '2022')\n",
    "GROUP BY year\n",
    "ORDER BY year;\n",
    "\"\"\"\n",
    "\n",
    "# Run Query for exports\n",
    "us_exports = pd.read_sql(query, conn)\n",
    "\n",
    "# Display Result\n",
    "print(\"\\n US Exports in 2021 & 2022:\")\n",
    "print(us_exports)\n",
    "\n",
    "# Calculate Percentage Change if Both Years Exist\n",
    "if len(us_exports) == 2:\n",
    "    change = ((us_exports['total_exports'][1] - us_exports['total_exports'][0]) / us_exports['total_exports'][0]) * 100\n",
    "    print(f\"\\n Exports change from 2021 to 2022: {change:.2f}%\")\n",
    "else:\n",
    "    print(\"\\n Data missing for one of the years.\")"
   ]
  },
  {
   "cell_type": "markdown",
   "id": "372b44a3-2eb6-4eb5-bfe9-287c9cf9fdaf",
   "metadata": {},
   "source": [
    "# Question 6: Plot import and export on a country level for 2022."
   ]
  },
  {
   "cell_type": "code",
   "execution_count": 30,
   "id": "a575ebf7-2ca3-4d00-aba6-48dc6e067ee8",
   "metadata": {},
   "outputs": [
    {
     "data": {
      "image/png": "[encoded data removed]",
      "text/plain": [
       "<Figure size 1400x800 with 1 Axes>"
      ]
     },
     "metadata": {},
     "output_type": "display_data"
    }
   ],
   "source": [
    "# SQL Query for Imports and Exports by country in 2022 (plotted top 10 based on trade value)\n",
    "query = \"\"\"\n",
    "SELECT\n",
    "    country_name,\n",
    "    trade_flow_name,\n",
    "    SUM(trade_value) AS total_trade_value\n",
    "FROM trade_flow\n",
    "WHERE SUBSTR(month_id, 1, 4) = '2022'\n",
    "GROUP BY country_name, trade_flow_name\n",
    "ORDER BY SUM(trade_value) DESC\n",
    "LIMIT 20;\n",
    "\"\"\"\n",
    "\n",
    "# Execute the query\n",
    "data_2022 = pd.read_sql(query, conn)\n",
    "\n",
    "# Pivot DataFrame to have Imports and Exports in separate columns\n",
    "trade_pivot = data_2022.pivot(index='country_name', columns='trade_flow_name', values='total_trade_value').fillna(0)\n",
    "\n",
    "# Plotting\n",
    "trade_pivot.plot(kind='bar', figsize=(14, 8), width=0.8)\n",
    "\n",
    "# Adding titles and labels\n",
    "plt.title('Imports and Exports by Country in 2022(Top 10)', fontsize=16)\n",
    "plt.xlabel('Country', fontsize=14)\n",
    "plt.ylabel('Trade Value', fontsize=14)\n",
    "plt.xticks(rotation=45, ha='right')\n",
    "plt.legend(title='Trade Flow')\n",
    "plt.grid(axis='y', linestyle='--', alpha=0.7)\n",
    "plt.tight_layout()\n",
    "\n",
    "# Show Plot\n",
    "plt.show()"
   ]
  },
  {
   "cell_type": "code",
   "execution_count": null,
   "id": "84f1d906-5f63-4934-88ae-b08540aeb106",
   "metadata": {},
   "outputs": [],
   "source": []
  }
 ],
 "metadata": {
  "kernelspec": {
   "display_name": "Python 3 (ipykernel)",
   "language": "python",
   "name": "python3"
  },
  "language_info": {
   "codemirror_mode": {
    "name": "ipython",
    "version": 3
   },
   "file_extension": ".py",
   "mimetype": "text/x-python",
   "name": "python",
   "nbconvert_exporter": "python",
   "pygments_lexer": "ipython3",
   "version": "3.12.4"
  }
 },
 "nbformat": 4,
 "nbformat_minor": 5
}
